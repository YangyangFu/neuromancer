{
 "cells": [
  {
   "cell_type": "markdown",
   "id": "70c8521b",
   "metadata": {},
   "source": [
    "## Variable and Constraint tutorial"
   ]
  },
  {
   "cell_type": "code",
   "execution_count": 1,
   "id": "92c75605",
   "metadata": {},
   "outputs": [
    {
     "ename": "ModuleNotFoundError",
     "evalue": "No module named 'neuromancer'",
     "output_type": "error",
     "traceback": [
      "\u001b[1;31m---------------------------------------------------------------------------\u001b[0m",
      "\u001b[1;31mModuleNotFoundError\u001b[0m                       Traceback (most recent call last)",
      "\u001b[1;32m<ipython-input-1-f0c9fb37ade1>\u001b[0m in \u001b[0;36m<module>\u001b[1;34m\u001b[0m\n\u001b[1;32m----> 1\u001b[1;33m \u001b[1;32mimport\u001b[0m \u001b[0mneuromancer\u001b[0m \u001b[1;32mas\u001b[0m \u001b[0mnm\u001b[0m\u001b[1;33m\u001b[0m\u001b[1;33m\u001b[0m\u001b[0m\n\u001b[0m\u001b[0;32m      2\u001b[0m \u001b[1;32mimport\u001b[0m \u001b[0mtorch\u001b[0m\u001b[1;33m\u001b[0m\u001b[1;33m\u001b[0m\u001b[0m\n\u001b[0;32m      3\u001b[0m \u001b[1;32mfrom\u001b[0m \u001b[0mneuromancer\u001b[0m\u001b[1;33m.\u001b[0m\u001b[0mconstraint\u001b[0m \u001b[1;32mimport\u001b[0m \u001b[0mVariable\u001b[0m\u001b[1;33m,\u001b[0m \u001b[0mConstraint\u001b[0m\u001b[1;33m\u001b[0m\u001b[1;33m\u001b[0m\u001b[0m\n",
      "\u001b[1;31mModuleNotFoundError\u001b[0m: No module named 'neuromancer'"
     ]
    }
   ],
   "source": [
    "import neuromancer as nm\n",
    "import torch\n",
    "from neuromancer.constraint import Variable, Constraint"
   ]
  },
  {
   "cell_type": "markdown",
   "id": "2a37b762",
   "metadata": {},
   "source": []
  },
  {
   "cell_type": "code",
   "execution_count": 3,
   "id": "569f4159",
   "metadata": {},
   "outputs": [],
   "source": [
    "class C(object):\n",
    "    def __getitem__(self, val):\n",
    "        print(val)"
   ]
  },
  {
   "cell_type": "code",
   "execution_count": 14,
   "id": "d82eac33",
   "metadata": {},
   "outputs": [
    {
     "name": "stdout",
     "output_type": "stream",
     "text": [
      "(1, 2, 3)\n",
      "hell\n",
      "hello\n"
     ]
    }
   ],
   "source": [
    "x = C()\n",
    "sl = x[1, 2, 3]\n",
    "st = f'hello_{str(sl)}'\n",
    "print(st.strip(f'_{str(sl)}'))\n",
    "print(st[:-len(str(sl))-1])"
   ]
  },
  {
   "cell_type": "code",
   "execution_count": 3,
   "id": "92f67d49",
   "metadata": {},
   "outputs": [],
   "source": [
    "# Let's make a Variable to use in defining a constraint\n",
    "x = Variable('x')"
   ]
  },
  {
   "cell_type": "code",
   "execution_count": 4,
   "id": "e22b1cf7",
   "metadata": {},
   "outputs": [
    {
     "data": {
      "text/plain": [
       "Constraint(\n",
       "  (comparator): LT()\n",
       ")"
      ]
     },
     "execution_count": 4,
     "metadata": {},
     "output_type": "execute_result"
    }
   ],
   "source": [
    "# Let's combine a variable and a constant\n",
    "x<1.0\n"
   ]
  },
  {
   "cell_type": "code",
   "execution_count": 10,
   "id": "a6f3b6c4",
   "metadata": {},
   "outputs": [
    {
     "data": {
      "text/plain": [
       "tensor(16.)"
      ]
     },
     "execution_count": 10,
     "metadata": {},
     "output_type": "execute_result"
    }
   ],
   "source": [
    "cnstr = (x < 1.0)^2\n",
    "cnstr({'x': 5.00})"
   ]
  },
  {
   "cell_type": "code",
   "execution_count": 15,
   "id": "10b36caa",
   "metadata": {},
   "outputs": [
    {
     "data": {
      "text/plain": [
       "tensor(15.1925)"
      ]
     },
     "execution_count": 15,
     "metadata": {},
     "output_type": "execute_result"
    }
   ],
   "source": [
    "import torch\n",
    "data = {'x': torch.rand([2,2,3])}\n",
    "a = Variable('a', value=1.5)\n",
    "math_exp_var = (x + 1 * 5 - a)**2\n",
    "((math_exp_var < 1.0))(data)"
   ]
  },
  {
   "cell_type": "code",
   "execution_count": 28,
   "id": "007beefc",
   "metadata": {},
   "outputs": [
    {
     "data": {
      "text/plain": [
       "tensor([[[0.8161, 0.9760, 0.6151],\n",
       "         [0.0767, 0.6740, 0.7300]],\n",
       "\n",
       "        [[0.8894, 0.8146, 0.7482],\n",
       "         [0.5178, 0.1139, 0.0808]]])"
      ]
     },
     "execution_count": 28,
     "metadata": {},
     "output_type": "execute_result"
    }
   ],
   "source": [
    "x(data)"
   ]
  },
  {
   "cell_type": "code",
   "execution_count": 11,
   "id": "edecc2fb",
   "metadata": {},
   "outputs": [],
   "source": [
    "# Supported binary math operations which take Variable and numeric or Variable and Variable and return a Variable are +, -, *, @, **, also unary negation, - "
   ]
  },
  {
   "cell_type": "code",
   "execution_count": 25,
   "id": "a491d7f5",
   "metadata": {},
   "outputs": [
    {
     "data": {
      "text/plain": [
       "tensor(0.0250, grad_fn=<MulBackward0>)"
      ]
     },
     "execution_count": 25,
     "metadata": {},
     "output_type": "execute_result"
    }
   ],
   "source": [
    "# Supported comparison operations which take as describe above and return a Constraint are <, >, <=, >=, ==\n",
    "# Fix bug for float initialization by casting floats to tensors internally. \n",
    "# Also will need to put on a device to avoid gpu related bugs\n",
    "# Make sure that you can hand nn.Parameters as arguments to instantiate a variable. \n",
    "# Change constant keyword arg in init to value.\n",
    "# option: if you have a weight that is learnable make a default constraint that weight >0\n",
    "import torch\n",
    "y = Variable('y')\n",
    "cnstr = torch.nn.Parameter(torch.tensor(0.1))*(x == y)^2\n",
    "cnstr({'x': torch.tensor(1.0), 'y': torch.tensor(0.5)})"
   ]
  },
  {
   "cell_type": "code",
   "execution_count": 16,
   "id": "9144d828",
   "metadata": {},
   "outputs": [
    {
     "data": {
      "text/plain": [
       "True"
      ]
     },
     "execution_count": 16,
     "metadata": {},
     "output_type": "execute_result"
    }
   ],
   "source": [
    "var = torch.nn.Parameter(torch.tensor(0.1))\n",
    "isinstance(var, torch.Tensor)"
   ]
  },
  {
   "cell_type": "code",
   "execution_count": null,
   "id": "7ea0bacf",
   "metadata": {},
   "outputs": [],
   "source": []
  }
 ],
 "metadata": {
  "kernelspec": {
   "display_name": "Python 3",
   "language": "python",
   "name": "python3"
  },
  "language_info": {
   "codemirror_mode": {
    "name": "ipython",
    "version": 3
   },
   "file_extension": ".py",
   "mimetype": "text/x-python",
   "name": "python",
   "nbconvert_exporter": "python",
   "pygments_lexer": "ipython3",
   "version": "3.7.3"
  }
 },
 "nbformat": 4,
 "nbformat_minor": 5
}
