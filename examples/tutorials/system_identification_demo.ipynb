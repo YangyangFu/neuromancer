{
 "cells": [
  {
   "cell_type": "markdown",
   "metadata": {},
   "source": [
    "# NeuroMANCER demonstration"
   ]
  },
  {
   "cell_type": "code",
   "execution_count": null,
   "metadata": {},
   "outputs": [],
   "source": [
    "from IPython.display import Image\n",
    "import warnings\n",
    "Image('../../figs/Problem_neuromancer4.PNG', width=500)"
   ]
  },
  {
   "cell_type": "code",
   "execution_count": null,
   "metadata": {},
   "outputs": [],
   "source": [
    "from neuromancer.dataset import read_file, normalize_data, split_sequence_data, SequenceDataset\n",
    "from neuromancer.estimators import LinearEstimator\n",
    "from neuromancer.blocks import Linear, ResMLP, MLP\n",
    "from neuromancer.dynamics import BlockSSM\n",
    "from neuromancer.problem import Problem\n",
    "from neuromancer.simulators import OpenLoopSimulator\n",
    "from neuromancer.loggers import BasicLogger\n",
    "from neuromancer.visuals import VisualizerOpen\n",
    "from neuromancer.trainer import Trainer\n",
    "from neuromancer.activations import SoftExponential\n",
    "from neuromancer.constraint import Variable, Objective\n",
    "from neuromancer.callbacks import SysIDCallback\n",
    "from argparse import Namespace\n",
    "import slim \n",
    "import torch\n",
    "import psl\n",
    "\n",
    "from torch.utils.data import DataLoader\n",
    "warnings.filterwarnings(\"ignore\")\n",
    "Image('../../figs/class_diagram.png')"
   ]
  },
  {
   "cell_type": "markdown",
   "metadata": {},
   "source": [
    "# System ID"
   ]
  },
  {
   "cell_type": "code",
   "execution_count": null,
   "metadata": {},
   "outputs": [],
   "source": [
    "Image('../../figs/sysid.png')"
   ]
  },
  {
   "cell_type": "markdown",
   "metadata": {},
   "source": [
    "## Datasets\n"
   ]
  },
  {
   "cell_type": "code",
   "execution_count": null,
   "metadata": {},
   "outputs": [],
   "source": [
    "data = read_file(psl.datasets['aero'])\n",
    "data, _ = normalize_data(data, 'zero-one')\n",
    "nsteps = 64\n",
    "\n",
    "split_data = split_sequence_data(data, nsteps)\n",
    "\n",
    "datasets = [SequenceDataset(d, nsteps=nsteps, name=n) for d, n in zip(split_data, ['train', 'dev', 'test'])]\n",
    "train_loop, dev_loop, test_loop = [d.get_full_sequence() for d in datasets]\n",
    "\n",
    "train_data, dev_data, test_data = [DataLoader(d, batch_size=len(d), shuffle=False, collate_fn=d.collate_fn) \n",
    "                                  for d in datasets]\n",
    "\n",
    "ny = train_data.dataset.dims[\"Yf\"][-1]\n",
    "nu = train_data.dataset.dims[\"Uf\"][-1]\n",
    "nx = 64"
   ]
  },
  {
   "cell_type": "markdown",
   "metadata": {},
   "source": [
    "## State Estimator"
   ]
  },
  {
   "cell_type": "code",
   "execution_count": null,
   "metadata": {},
   "outputs": [],
   "source": [
    "Image('../../figs/state_estimator.png', width=200)"
   ]
  },
  {
   "cell_type": "code",
   "execution_count": null,
   "metadata": {},
   "outputs": [],
   "source": [
    "# create an estimator for initial system states\n",
    "dims = {**train_data.dataset.dims, \"x0\": (nx,)}\n",
    "state_estimator = LinearEstimator(dims, # dict mapping dataset variable names to their dimensions\n",
    "                                  input_keys=[\"Yp\"])  # names of dataset variables used as input)"
   ]
  },
  {
   "cell_type": "markdown",
   "metadata": {},
   "source": [
    "## State Space Model\n",
    "\n",
    "Block-structured state space models decouple the dynamics of exogenous inputs, state transitions, and system measurements. "
   ]
  },
  {
   "cell_type": "code",
   "execution_count": null,
   "metadata": {},
   "outputs": [],
   "source": [
    "Image('../../figs/ssm.png', width=300)"
   ]
  },
  {
   "cell_type": "code",
   "execution_count": null,
   "metadata": {},
   "outputs": [],
   "source": [
    "# define state transition map\n",
    "fx = MLP(nx, nx)\n",
    "\n",
    "# define output map\n",
    "fy = Linear(nx, ny)\n",
    "\n",
    "# define input map\n",
    "fu = MLP(nu, nx)\n",
    "\n",
    "# create block-structured state space model\n",
    "ssm = BlockSSM(fx, fy, fu=fu, input_key_map={\"x0\": f\"x0_{state_estimator.name}\"}, name=\"dynamics\")"
   ]
  },
  {
   "cell_type": "markdown",
   "metadata": {},
   "source": [
    "## Objective Terms\n",
    "To optimize the weights of our model, we'll use mean-squared error as our objective to minimize the error between ground-truth and neural SSM predictions."
   ]
  },
  {
   "cell_type": "code",
   "execution_count": null,
   "metadata": {},
   "outputs": [],
   "source": [
    "predictions = Variable(f\"Y_pred_{ssm.name}\")\n",
    "truth = Variable(\"Yf\")\n",
    "xhat = Variable(f\"X_pred_{ssm.name}\")\n",
    " \n",
    "smoothing_loss = (xhat[:-1] == xhat[1:])^2\n",
    "ssm_objective = (predictions == truth)^2\n",
    "ssm_objective.name = 'ssm_loss'\n",
    "lower_bound = (predictions > 0.)^2\n",
    "upper_bound = (predictions < 1.)^2"
   ]
  },
  {
   "cell_type": "markdown",
   "metadata": {},
   "source": [
    "## Optimization Problem\n",
    "\n",
    "Now we compose an optimization problem from model components, objective terms, and constraints using NeuroMANCER's `Problem` class."
   ]
  },
  {
   "cell_type": "code",
   "execution_count": null,
   "metadata": {},
   "outputs": [],
   "source": [
    "Image('../../figs/problem_uml.png')"
   ]
  },
  {
   "cell_type": "code",
   "execution_count": null,
   "metadata": {},
   "outputs": [],
   "source": [
    "components = [state_estimator, ssm]\n",
    "objectives = [ssm_objective]\n",
    "\n",
    "constraints = [0.01*upper_bound, 0.01*lower_bound, 0.003*smoothing_loss]\n",
    "\n",
    "model = Problem(objectives, constraints, components)"
   ]
  },
  {
   "cell_type": "markdown",
   "metadata": {},
   "source": [
    "## Training\n",
    "\n",
    "The `Trainer` class encapsulates boilerplate training, evaluation, and logging code, and additionally provides options for customized steps (e.g. visualizations, open loop simulations) via a Callback object. "
   ]
  },
  {
   "cell_type": "code",
   "execution_count": null,
   "metadata": {},
   "outputs": [],
   "source": [
    "Image('../../figs/trainer_uml.png', width=700)"
   ]
  },
  {
   "cell_type": "code",
   "execution_count": null,
   "metadata": {},
   "outputs": [],
   "source": [
    "optim = torch.optim.AdamW(model.parameters(), lr=0.000001)\n",
    "simulator = OpenLoopSimulator(model, train_loop, dev_loop, test_loop, eval_sim=False)\n",
    "logger = BasicLogger(verbosity=50, savedir='test', stdout=[\"nstep_dev_ssm_loss\", \n",
    "                                                           \"open_dev_ssm_loss\"])\n",
    "visualizer = VisualizerOpen(\n",
    "    ssm,\n",
    "    1,\n",
    "    'test'\n",
    ")\n",
    "\n",
    "trainer = Trainer(\n",
    "    model,\n",
    "    train_data,\n",
    "    dev_data,\n",
    "    test_data,\n",
    "    optim,\n",
    "    callback=SysIDCallback(simulator, visualizer),\n",
    "    logger=logger,\n",
    "    epochs=100,\n",
    "    eval_metric=\"nstep_dev_ssm_loss\",\n",
    "    patience=100,\n",
    ")                             "
   ]
  },
  {
   "cell_type": "code",
   "execution_count": null,
   "metadata": {},
   "outputs": [],
   "source": [
    "best_model = trainer.train()"
   ]
  },
  {
   "cell_type": "markdown",
   "metadata": {},
   "source": [
    "## Model Evaluation"
   ]
  },
  {
   "cell_type": "code",
   "execution_count": null,
   "metadata": {},
   "outputs": [],
   "source": [
    "linear_model = best_model"
   ]
  },
  {
   "cell_type": "code",
   "execution_count": null,
   "metadata": {},
   "outputs": [],
   "source": [
    "best_outputs = trainer.test(best_model)\n"
   ]
  },
  {
   "cell_type": "code",
   "execution_count": null,
   "metadata": {},
   "outputs": [],
   "source": [
    "Image('test/open_loop.png')"
   ]
  },
  {
   "cell_type": "markdown",
   "metadata": {},
   "source": [
    "## Analysis of learned dynamics"
   ]
  },
  {
   "cell_type": "code",
   "execution_count": null,
   "metadata": {},
   "outputs": [],
   "source": [
    "Image('test/nstep_loop.png')"
   ]
  },
  {
   "cell_type": "code",
   "execution_count": null,
   "metadata": {},
   "outputs": [],
   "source": [
    "Image('test/eigmat.png')\n"
   ]
  },
  {
   "cell_type": "markdown",
   "metadata": {},
   "source": [
    "## Inductive priors"
   ]
  },
  {
   "cell_type": "code",
   "execution_count": null,
   "metadata": {},
   "outputs": [],
   "source": [
    "# Pick an unreasonable range for the dominant eigenvalue of the linear map\n",
    "linargs = {'sigma_min': 1.5, 'sigma_max': 2}\n",
    "\n",
    "fx = Linear(nx, nx, linear_map=slim.maps['pf'], linargs=linargs)"
   ]
  },
  {
   "cell_type": "code",
   "execution_count": null,
   "metadata": {},
   "outputs": [],
   "source": [
    "state_estimator = LinearEstimator(dims, # dict mapping dataset variable names to their dimensions\n",
    "                                  input_keys=[\"Yp\"])  # names of dataset variables used as input)\n",
    "# define output map\n",
    "fy = Linear(nx, ny)\n",
    "\n",
    "# define input map\n",
    "fu = Linear(nu, nx)\n",
    "\n",
    "# create block-structured state space model\n",
    "ssm = BlockSSM(fx, fy, fu=fu, input_key_map={\"x0\": f\"x0_{state_estimator.name}\"}, name=\"dynamics\")\n",
    "\n",
    "model = Problem(objectives, constraints, components)\n",
    "components = [state_estimator, ssm]\n",
    "objectives = [ssm_objective]\n",
    "constraints = []"
   ]
  },
  {
   "cell_type": "code",
   "execution_count": null,
   "metadata": {},
   "outputs": [],
   "source": [
    "optim = torch.optim.AdamW(model.parameters(), lr=0.001)\n",
    "simulator = OpenLoopSimulator(model, train_loop, dev_loop, test_loop, eval_sim=False)\n",
    "logger = BasicLogger(verbosity=50, savedir='test', stdout=[\"nstep_dev_ssm_loss\", \n",
    "                                                           \"open_dev_ssm_loss\"])\n",
    "visualizer = VisualizerOpen(\n",
    "    ssm,\n",
    "    1,\n",
    "    'test'\n",
    ")\n",
    "\n",
    "trainer = Trainer(\n",
    "    model,\n",
    "    train_data,\n",
    "    dev_data,\n",
    "    test_data,\n",
    "    optim,\n",
    "    callback=SysIDCallback(simulator, visualizer),\n",
    "    logger=logger,\n",
    "    epochs=100,\n",
    "    eval_metric=\"nstep_dev_ssm_loss\",\n",
    "    patience=100,\n",
    ")    \n",
    "\n",
    "best_model = trainer.train()"
   ]
  },
  {
   "cell_type": "code",
   "execution_count": null,
   "metadata": {},
   "outputs": [],
   "source": [
    "Image('test/eigmat.png')\n"
   ]
  },
  {
   "cell_type": "markdown",
   "metadata": {},
   "source": [
    "## Domain Aware Priors"
   ]
  },
  {
   "cell_type": "code",
   "execution_count": null,
   "metadata": {},
   "outputs": [],
   "source": [
    "# Pick a more reasonable range for constraining the singular values of the linear maps\n",
    "linargs = {'sigma_min': 0.1, 'sigma_max': 1.0}\n",
    "fx = MLP(nx, nx, hsizes=[64, 64,64],linear_map=slim.maps['softSVD'], linargs=linargs)\n",
    "\n",
    "\n",
    "reg = Variable(f'reg_error_{ssm.name}')\n",
    "svd_error = (reg == 0.0)^2\n",
    "\n",
    "Image('../../figs/svd.png', width=300)"
   ]
  },
  {
   "cell_type": "markdown",
   "metadata": {},
   "source": [
    "## Constraint Terms\n",
    "In addition to minimizing the mean-squared error of predicted and expected observables, we may also want to impose further constraints on different model components to enforce certain model behaviors. "
   ]
  },
  {
   "cell_type": "code",
   "execution_count": null,
   "metadata": {},
   "outputs": [],
   "source": [
    "state_predictions = Variable(f\"X_pred_{ssm.name}\")\n",
    "initial_states = Variable(f\"x0_{state_estimator.name}\")\n",
    "\n",
    "dx_penalty = (state_predictions[1:] == state_predictions[:-1])^2"
   ]
  },
  {
   "cell_type": "code",
   "execution_count": null,
   "metadata": {},
   "outputs": [],
   "source": [
    "state_estimator = LinearEstimator(dims, # dict mapping dataset variable names to their dimensions\n",
    "                                  input_keys=[\"Yp\"])  # names of dataset variables used as input)\n",
    "# define output map\n",
    "fy = Linear(nx, ny)\n",
    "\n",
    "# define input map\n",
    "fu = Linear(nu, nx)\n",
    "\n",
    "# create block-structured state space model\n",
    "ssm = BlockSSM(fx, fy, fu=fu, input_key_map={\"x0\": f\"x0_{state_estimator.name}\"}, name=\"dynamics\")\n",
    "\n",
    "model = Problem(objectives, constraints, components)\n",
    "components = [state_estimator, ssm]\n",
    "objectives = [ssm_objective]\n",
    "constraints = [0.1*dx_penalty, 0.1*svd_error]"
   ]
  },
  {
   "cell_type": "code",
   "execution_count": null,
   "metadata": {},
   "outputs": [],
   "source": [
    "optim = torch.optim.AdamW(model.parameters(), lr=0.00001)\n",
    "simulator = OpenLoopSimulator(model, train_loop, dev_loop, test_loop, eval_sim=False)\n",
    "logger = BasicLogger(verbosity=50, savedir='test', stdout=[\"nstep_dev_ssm_loss\", \n",
    "                                                           \"open_dev_ssm_loss\"])\n",
    "visualizer = VisualizerOpen(\n",
    "    ssm,\n",
    "    1,\n",
    "    'test'\n",
    ")\n",
    "\n",
    "trainer = Trainer(\n",
    "    model,\n",
    "    train_data,\n",
    "    dev_data,\n",
    "    test_data,\n",
    "    optim,\n",
    "    callback=SysIDCallback(simulator, visualizer),\n",
    "    logger=logger,\n",
    "    epochs=100,\n",
    "    eval_metric=\"nstep_dev_ssm_loss\",\n",
    "    patience=100,\n",
    ")    \n",
    "\n",
    "best_model = trainer.train()\n",
    "best_outputs = trainer.test(best_model)\n",
    "\n",
    "Image('test/open_loop.png')"
   ]
  },
  {
   "cell_type": "code",
   "execution_count": null,
   "metadata": {},
   "outputs": [],
   "source": [
    "Image('test/eigmat.png')"
   ]
  },
  {
   "cell_type": "code",
   "execution_count": null,
   "metadata": {},
   "outputs": [],
   "source": []
  },
  {
   "cell_type": "code",
   "execution_count": null,
   "metadata": {},
   "outputs": [],
   "source": []
  }
 ],
 "metadata": {
  "kernelspec": {
   "display_name": "Python 3 (ipykernel)",
   "language": "python",
   "name": "python3"
  },
  "language_info": {
   "codemirror_mode": {
    "name": "ipython",
    "version": 3
   },
   "file_extension": ".py",
   "mimetype": "text/x-python",
   "name": "python",
   "nbconvert_exporter": "python",
   "pygments_lexer": "ipython3",
   "version": "3.8.12"
  }
 },
 "nbformat": 4,
 "nbformat_minor": 2
}
