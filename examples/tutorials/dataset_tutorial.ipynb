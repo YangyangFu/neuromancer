{
 "cells": [
  {
   "cell_type": "code",
   "execution_count": 1,
   "id": "3c90f9a8-1d63-4397-9450-ee8d7e78ca8f",
   "metadata": {},
   "outputs": [],
   "source": [
    "from neuromancer import dataset\n",
    "import psl\n",
    "import torch\n",
    "import numpy as np"
   ]
  },
  {
   "cell_type": "markdown",
   "id": "d432329d-01d5-424f-9d25-d95f5b939166",
   "metadata": {},
   "source": [
    "## Sequential dataset loading"
   ]
  },
  {
   "cell_type": "code",
   "execution_count": 2,
   "id": "198f4d36-e9bc-4cda-afad-07bc6a90bd70",
   "metadata": {},
   "outputs": [],
   "source": [
    "# loading arbitrary data from a CSV file\n",
    "data_path = psl.datasets[\"aero\"]\n",
    "data = dataset.read_file(data_path)"
   ]
  },
  {
   "cell_type": "code",
   "execution_count": 3,
   "id": "6530860e-d4da-499d-94f5-2d6e89b29abc",
   "metadata": {},
   "outputs": [],
   "source": [
    "train, val, test = dataset.split_sequence_data(data, nsteps=16)"
   ]
  },
  {
   "cell_type": "code",
   "execution_count": 4,
   "id": "c7bf3bf9-b9b1-4707-9204-3293f03c59df",
   "metadata": {},
   "outputs": [],
   "source": [
    "train, stats = dataset.normalize_data(train, \"zscore\")\n",
    "val, _ = dataset.normalize_data(val, \"zscore\", stats=stats)\n",
    "test, _ = dataset.normalize_data(test, \"zscore\", stats=stats)"
   ]
  },
  {
   "cell_type": "code",
   "execution_count": 5,
   "id": "8d5e0f32-9220-4228-ab3c-45b232c02c85",
   "metadata": {},
   "outputs": [],
   "source": [
    "train_dset = dataset.SequenceDataset(train, nsteps=16, name=\"train\")\n",
    "val_dset = dataset.SequenceDataset(val, nsteps=16, name=\"val\")\n",
    "test_dset = dataset.SequenceDataset(test, nsteps=16, name=\"test\")"
   ]
  },
  {
   "cell_type": "code",
   "execution_count": 6,
   "id": "a812935b-d14d-4613-a507-1a663366f52f",
   "metadata": {},
   "outputs": [],
   "source": [
    "train_fullbatch = train_dset.get_full_batch()\n",
    "train_fullseq = train_dset.get_full_sequence()"
   ]
  },
  {
   "cell_type": "code",
   "execution_count": 7,
   "id": "754eff38-c410-4bac-a47e-7883be571475",
   "metadata": {},
   "outputs": [
    {
     "data": {
      "text/plain": [
       "{'Up': torch.Size([16, 10, 10]),\n",
       " 'Yp': torch.Size([16, 10, 5]),\n",
       " 'Uf': torch.Size([16, 10, 10]),\n",
       " 'Yf': torch.Size([16, 10, 5])}"
      ]
     },
     "execution_count": 7,
     "metadata": {},
     "output_type": "execute_result"
    }
   ],
   "source": [
    "{k: v.shape for k, v in train_fullbatch.items() if isinstance(v, torch.Tensor)}"
   ]
  },
  {
   "cell_type": "code",
   "execution_count": 8,
   "id": "2e690b4b-cc00-46d3-80f7-06e392491f23",
   "metadata": {
    "tags": []
   },
   "outputs": [
    {
     "data": {
      "text/plain": [
       "{'Up': torch.Size([160, 1, 10]),\n",
       " 'Yp': torch.Size([160, 1, 5]),\n",
       " 'Uf': torch.Size([160, 1, 10]),\n",
       " 'Yf': torch.Size([160, 1, 5])}"
      ]
     },
     "execution_count": 8,
     "metadata": {},
     "output_type": "execute_result"
    }
   ],
   "source": [
    "{k: v.shape for k, v in train_fullseq.items() if isinstance(v, torch.Tensor)}"
   ]
  },
  {
   "cell_type": "markdown",
   "id": "d40f6395-b7f8-42da-b703-331b45870aa2",
   "metadata": {},
   "source": [
    "## Multi-sequence dataset loading"
   ]
  },
  {
   "cell_type": "code",
   "execution_count": 9,
   "id": "1fb487e1-a3cf-479a-a41c-1061314151aa",
   "metadata": {},
   "outputs": [],
   "source": [
    "simulator = psl.emulators[\"TwoTank\"](nsim=1024)\n",
    "data = [\n",
    "    simulator.simulate(x0=np.random.rand(2))\n",
    "    for _ in range(15)\n",
    "]"
   ]
  },
  {
   "cell_type": "code",
   "execution_count": 10,
   "id": "606bcfe9-f091-4d90-b089-dfa694e1ff28",
   "metadata": {},
   "outputs": [],
   "source": [
    "train, val, test = dataset.split_sequence_data(data, nsteps=16)"
   ]
  },
  {
   "cell_type": "code",
   "execution_count": 11,
   "id": "f615a9b0-5d93-4d89-aa97-b243cd0b856f",
   "metadata": {},
   "outputs": [],
   "source": [
    "train, stats = dataset.normalize_data(train, \"zscore\")\n",
    "val, _ = dataset.normalize_data(val, \"zscore\", stats=stats)\n",
    "test, _ = dataset.normalize_data(test, \"zscore\", stats=stats)"
   ]
  },
  {
   "cell_type": "code",
   "execution_count": 12,
   "id": "8be382d5-49f0-4120-8381-7f379336feb7",
   "metadata": {},
   "outputs": [],
   "source": [
    "train_dset = dataset.SequenceDataset(train, nsteps=16)\n",
    "val_dset = dataset.SequenceDataset(val, nsteps=16)\n",
    "test_dset = dataset.SequenceDataset(test, nsteps=16)"
   ]
  },
  {
   "cell_type": "code",
   "execution_count": 13,
   "id": "16235dc6-d2ab-44cb-9a71-2c84eba498eb",
   "metadata": {},
   "outputs": [],
   "source": [
    "train_fullbatch = train_dset.get_full_batch()\n",
    "train_fullseq = train_dset.get_full_sequence()"
   ]
  },
  {
   "cell_type": "code",
   "execution_count": 14,
   "id": "7bd0ddec-af9b-4429-91bc-f821c511d63b",
   "metadata": {},
   "outputs": [
    {
     "data": {
      "text/plain": [
       "{'Up': torch.Size([16, 319, 2]),\n",
       " 'Xp': torch.Size([16, 319, 2]),\n",
       " 'Yp': torch.Size([16, 319, 2]),\n",
       " 'Uf': torch.Size([16, 319, 2]),\n",
       " 'Xf': torch.Size([16, 319, 2]),\n",
       " 'Yf': torch.Size([16, 319, 2])}"
      ]
     },
     "execution_count": 14,
     "metadata": {},
     "output_type": "execute_result"
    }
   ],
   "source": [
    "{k: v.shape for k, v in train_fullbatch.items() if isinstance(v, torch.Tensor)}"
   ]
  },
  {
   "cell_type": "code",
   "execution_count": 15,
   "id": "49bcb1da-53f3-48e7-b1cc-95f5fef71bd4",
   "metadata": {
    "tags": []
   },
   "outputs": [
    {
     "data": {
      "text/plain": [
       "{'Up': torch.Size([1008, 1, 2]),\n",
       " 'Xp': torch.Size([1008, 1, 2]),\n",
       " 'Yp': torch.Size([1008, 1, 2]),\n",
       " 'Uf': torch.Size([1008, 1, 2]),\n",
       " 'Xf': torch.Size([1008, 1, 2]),\n",
       " 'Yf': torch.Size([1008, 1, 2])}"
      ]
     },
     "execution_count": 15,
     "metadata": {},
     "output_type": "execute_result"
    }
   ],
   "source": [
    "{k: v.shape for k, v in train_fullseq[0].items() if isinstance(v, torch.Tensor)}"
   ]
  },
  {
   "cell_type": "markdown",
   "id": "aff36acf-4d7e-4111-ad28-445c0c6f928a",
   "metadata": {},
   "source": [
    "## Static dataset loading"
   ]
  },
  {
   "cell_type": "code",
   "execution_count": 16,
   "id": "b01444ba-e2de-4f8b-973b-491aebb11a68",
   "metadata": {},
   "outputs": [],
   "source": [
    "train, val, test = [\n",
    "    {\"X\": np.random.rand(400, 20), \"Y\": np.random.rand(400, 2)}\n",
    "    for _ in range(3)\n",
    "]"
   ]
  },
  {
   "cell_type": "code",
   "execution_count": 17,
   "id": "d7216dd7-0205-4385-9413-6c92906260cf",
   "metadata": {},
   "outputs": [],
   "source": [
    "train, stats = dataset.normalize_data(train, \"zscore\")\n",
    "val, _ = dataset.normalize_data(val, \"zscore\", stats=stats)\n",
    "test, _ = dataset.normalize_data(test, \"zscore\", stats=stats)"
   ]
  },
  {
   "cell_type": "code",
   "execution_count": 18,
   "id": "0ebddfe9-f41a-421c-afe4-e39c21d01197",
   "metadata": {},
   "outputs": [],
   "source": [
    "train_dset = dataset.StaticDataset(train, name=\"train\")\n",
    "val_dset = dataset.StaticDataset(val, name=\"val\")\n",
    "test_dset = dataset.StaticDataset(test, name=\"test\")"
   ]
  },
  {
   "cell_type": "code",
   "execution_count": 19,
   "id": "eb24f840-d32d-442e-ac9f-dd956d243617",
   "metadata": {},
   "outputs": [],
   "source": [
    "train_fullbatch = train_dset.get_full_batch()"
   ]
  },
  {
   "cell_type": "code",
   "execution_count": 20,
   "id": "d7fc5553-a7da-4831-b5cd-6a0958fb7eb7",
   "metadata": {},
   "outputs": [
    {
     "data": {
      "text/plain": [
       "{'X': torch.Size([400, 20]), 'Y': torch.Size([400, 2])}"
      ]
     },
     "execution_count": 20,
     "metadata": {},
     "output_type": "execute_result"
    }
   ],
   "source": [
    "{k: v.shape for k, v in train_fullbatch.items() if isinstance(v, torch.Tensor)}"
   ]
  }
 ],
 "metadata": {
  "kernelspec": {
   "display_name": "neuromancer2",
   "language": "python",
   "name": "neuromancer2"
  },
  "language_info": {
   "codemirror_mode": {
    "name": "ipython",
    "version": 3
   },
   "file_extension": ".py",
   "mimetype": "text/x-python",
   "name": "python",
   "nbconvert_exporter": "python",
   "pygments_lexer": "ipython3",
   "version": "3.7.8"
  }
 },
 "nbformat": 4,
 "nbformat_minor": 5
}
